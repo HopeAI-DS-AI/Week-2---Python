{
 "cells": [
  {
   "cell_type": "markdown",
   "metadata": {},
   "source": [
    "# Assignment - Control Structures "
   ]
  },
  {
   "cell_type": "code",
   "execution_count": 2,
   "metadata": {},
   "outputs": [
    {
     "name": "stdout",
     "output_type": "stream",
     "text": [
      "Welcome to Assignment!\n"
     ]
    }
   ],
   "source": [
    "print(\"Welcome to Assignment!\")"
   ]
  },
  {
   "cell_type": "code",
   "execution_count": 4,
   "metadata": {},
   "outputs": [
    {
     "name": "stdout",
     "output_type": "stream",
     "text": [
      "Num1:  10\n",
      "Num2:  30\n",
      "Add:  40\n"
     ]
    }
   ],
   "source": [
    "Num1 = 10\n",
    "Num2 = 30\n",
    "print(\"Num1: \", Num1)  \n",
    "print(\"Num2: \", Num2)\n",
    "add = Num1 + Num2\n",
    "print(\"Add: \", add)"
   ]
  },
  {
   "cell_type": "code",
   "execution_count": 8,
   "metadata": {},
   "outputs": [
    {
     "name": "stdout",
     "output_type": "stream",
     "text": [
      "Enter the value of BMI: 34\n",
      "Obesity-Class I\n"
     ]
    }
   ],
   "source": [
    "# Body Mass Index\n",
    "\n",
    "bmi = float(input(\"Enter the value of BMI: \")) \n",
    "if bmi < 18:\n",
    "    print(\"Underweight\")\n",
    "elif bmi > 18.5 and bmi < 24.9:\n",
    "    print(\"Normal\")\n",
    "elif bmi > 25 and bmi < 29.9:\n",
    "    print(\"Over Weight\")\n",
    "elif bmi > 30 and bmi < 34.9:\n",
    "    print(\"Obesity-Class I\")\n",
    "elif bmi > 35 and bmi < 39.9:\n",
    "    print(\"Obesity-Class II\")\n",
    "else:\n",
    "    print(\"Extreme Obesity\")"
   ]
  },
  {
   "cell_type": "code",
   "execution_count": null,
   "metadata": {},
   "outputs": [],
   "source": []
  }
 ],
 "metadata": {
  "kernelspec": {
   "display_name": "Python 3",
   "language": "python",
   "name": "python3"
  },
  "language_info": {
   "codemirror_mode": {
    "name": "ipython",
    "version": 3
   },
   "file_extension": ".py",
   "mimetype": "text/x-python",
   "name": "python",
   "nbconvert_exporter": "python",
   "pygments_lexer": "ipython3",
   "version": "3.7.4"
  }
 },
 "nbformat": 4,
 "nbformat_minor": 2
}
