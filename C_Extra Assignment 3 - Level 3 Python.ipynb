{
 "cells": [
  {
   "cell_type": "markdown",
   "metadata": {},
   "source": [
    "# Extra Assignment 3 - Level 3 Python"
   ]
  },
  {
   "cell_type": "code",
   "execution_count": 10,
   "metadata": {},
   "outputs": [
    {
     "name": "stdout",
     "output_type": "stream",
     "text": [
      "Value:  10\n",
      "Correct\n"
     ]
    }
   ],
   "source": [
    "# print correct if i == 10\n",
    "\n",
    "i = 10\n",
    "if (i == 10):\n",
    "    print(\"Value: \", i)\n",
    "    print(\"Correct\")"
   ]
  },
  {
   "cell_type": "code",
   "execution_count": 11,
   "metadata": {},
   "outputs": [
    {
     "name": "stdout",
     "output_type": "stream",
     "text": [
      "Enter the password: HOPE@123\n",
      "Password is correct\n"
     ]
    }
   ],
   "source": [
    "# Check the password using if and else\n",
    "\n",
    "pwd = str(input(\"Enter the password: \"))\n",
    "if (pwd == \"HOPE@123\"):\n",
    "    print(\"Password is correct\")"
   ]
  },
  {
   "cell_type": "code",
   "execution_count": 12,
   "metadata": {},
   "outputs": [
    {
     "name": "stdout",
     "output_type": "stream",
     "text": [
      "Enter the age: 20\n",
      "Adult\n"
     ]
    }
   ],
   "source": [
    "# Category the people by their age like children, adult, citizen, senior citizen...\n",
    "\n",
    "age = int(input(\"Enter the age: \"))\n",
    "if (age < 18):\n",
    "    print(\"Children\")\n",
    "elif (age < 35):\n",
    "    print(\"Adult\")\n",
    "elif (age < 59):\n",
    "    print(\"Citizen\")\n",
    "else:\n",
    "    print(\"Senior Citizen\")"
   ]
  },
  {
   "cell_type": "code",
   "execution_count": 18,
   "metadata": {},
   "outputs": [
    {
     "name": "stdout",
     "output_type": "stream",
     "text": [
      "Enter a positive or negative number: 1\n",
      "Number is positive\n"
     ]
    }
   ],
   "source": [
    "# find whether given number is positive or negative\n",
    "\n",
    "number = int(input(\"Enter a positive or negative number: \"))\n",
    "if (number > 0):\n",
    "    print(\"Number is positive\")\n",
    "else:\n",
    "    print(\"Number is negative\")"
   ]
  },
  {
   "cell_type": "code",
   "execution_count": 20,
   "metadata": {},
   "outputs": [
    {
     "name": "stdout",
     "output_type": "stream",
     "text": [
      "Enter a number to check: 22\n",
      "Number is not divisible by 5\n"
     ]
    }
   ],
   "source": [
    "# check whether the given number is divisible by 5\n",
    "\n",
    "num = int(input(\"Enter a number to check: \"))\n",
    "if (num % 5 == 0):\n",
    "    print(\"Number is divisible by 5\")\n",
    "else:\n",
    "    print(\"Number is not divisible by 5\")"
   ]
  }
 ],
 "metadata": {
  "kernelspec": {
   "display_name": "Python 3",
   "language": "python",
   "name": "python3"
  },
  "language_info": {
   "codemirror_mode": {
    "name": "ipython",
    "version": 3
   },
   "file_extension": ".py",
   "mimetype": "text/x-python",
   "name": "python",
   "nbconvert_exporter": "python",
   "pygments_lexer": "ipython3",
   "version": "3.7.4"
  }
 },
 "nbformat": 4,
 "nbformat_minor": 2
}
