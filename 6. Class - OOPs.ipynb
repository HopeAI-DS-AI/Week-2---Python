{
 "cells": [
  {
   "cell_type": "code",
   "execution_count": 6,
   "metadata": {},
   "outputs": [],
   "source": [
    "# Class 1\n",
    "\n",
    "class Calculator():\n",
    "    def add(a, b):\n",
    "        add = a + b\n",
    "        return add\n",
    "    def sub(a, b):\n",
    "        sub = a - b\n",
    "        return sub\n",
    "    def mul(a, b):\n",
    "        mul = a * b\n",
    "        return mul"
   ]
  },
  {
   "cell_type": "code",
   "execution_count": 7,
   "metadata": {},
   "outputs": [
    {
     "name": "stdout",
     "output_type": "stream",
     "text": [
      "Addition:  2\n"
     ]
    }
   ],
   "source": [
    "result1 = Calculator.add(1, 1)\n",
    "print(\"Addition: \", result1)"
   ]
  },
  {
   "cell_type": "code",
   "execution_count": 8,
   "metadata": {},
   "outputs": [
    {
     "name": "stdout",
     "output_type": "stream",
     "text": [
      "Subtraction:  0\n"
     ]
    }
   ],
   "source": [
    "result2 = Calculator.sub(1, 1)\n",
    "print(\"Subtraction: \", result2)"
   ]
  },
  {
   "cell_type": "code",
   "execution_count": 9,
   "metadata": {},
   "outputs": [
    {
     "name": "stdout",
     "output_type": "stream",
     "text": [
      "Subtraction:  1\n"
     ]
    }
   ],
   "source": [
    "result3 = Calculator.mul(1, 1)\n",
    "print(\"Subtraction: \", result3)"
   ]
  },
  {
   "cell_type": "code",
   "execution_count": 11,
   "metadata": {},
   "outputs": [],
   "source": [
    "# Class 2\n",
    "\n",
    "class multipleFunctions():\n",
    "    def OddEven():\n",
    "        num = int(input(\"Enter the number: \"))\n",
    "        if ((num % 2) == 1):\n",
    "            print(\"Odd Number\")\n",
    "            message = \"Odd Number\"\n",
    "        else:\n",
    "            print(\"Even Number\")\n",
    "            message = \"Even Number\"\n",
    "        return message\n",
    "\n",
    "    def BMI():\n",
    "        BMI = int(input(\"Enter the BMI Index: \"))\n",
    "        if (BMI < 18.5):\n",
    "            print(\"Underweight\")\n",
    "            message = \"Under Weight\"\n",
    "        elif (BMI < 24.9):\n",
    "            print(\"Normal\")\n",
    "            message = \"Normal\"\n",
    "        elif (BMI < 29.9):\n",
    "            print(\"Over Weight\")\n",
    "            message = \"Overweight\"\n",
    "        else: \n",
    "            print(\"Very Over Weight\")\n",
    "            message = \"Overweight\"\n",
    "        return message"
   ]
  },
  {
   "cell_type": "code",
   "execution_count": 12,
   "metadata": {},
   "outputs": [
    {
     "name": "stdout",
     "output_type": "stream",
     "text": [
      "Enter the BMI Index: 25\n",
      "Over Weight\n"
     ]
    },
    {
     "data": {
      "text/plain": [
       "'Overweight'"
      ]
     },
     "execution_count": 12,
     "metadata": {},
     "output_type": "execute_result"
    }
   ],
   "source": [
    "multipleFunctions.BMI()"
   ]
  },
  {
   "cell_type": "code",
   "execution_count": 14,
   "metadata": {},
   "outputs": [
    {
     "name": "stdout",
     "output_type": "stream",
     "text": [
      "Enter the number: 56\n",
      "Even Number\n"
     ]
    },
    {
     "data": {
      "text/plain": [
       "'Even Number'"
      ]
     },
     "execution_count": 14,
     "metadata": {},
     "output_type": "execute_result"
    }
   ],
   "source": [
    "multipleFunctions.OddEven()"
   ]
  }
 ],
 "metadata": {
  "kernelspec": {
   "display_name": "Python 3",
   "language": "python",
   "name": "python3"
  },
  "language_info": {
   "codemirror_mode": {
    "name": "ipython",
    "version": 3
   },
   "file_extension": ".py",
   "mimetype": "text/x-python",
   "name": "python",
   "nbconvert_exporter": "python",
   "pygments_lexer": "ipython3",
   "version": "3.7.4"
  }
 },
 "nbformat": 4,
 "nbformat_minor": 2
}
