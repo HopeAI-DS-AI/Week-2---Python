{
 "cells": [
  {
   "cell_type": "markdown",
   "metadata": {},
   "source": [
    "# Scenerio-Based Questions"
   ]
  },
  {
   "cell_type": "code",
   "execution_count": 1,
   "metadata": {},
   "outputs": [
    {
     "name": "stdout",
     "output_type": "stream",
     "text": [
      "Enter your age: 18\n",
      "Eligible to vote\n"
     ]
    }
   ],
   "source": [
    "# Scenario 1: \n",
    "# A system checks if a user is eligible to vote based on their age.  \n",
    "# Write logic to ask the user for their age and determine if they are eligible to vote based on whether they are 18 or older.\n",
    "\n",
    "# to check whether the voter is eligible to vote based on age\n",
    "\n",
    "voters_age = int(input(\"Enter your age: \"))\n",
    "if (voters_age >= 18):\n",
    "    print(\"Eligible to vote\")\n",
    "else:\n",
    "    print(\"Not eligible to vote\")"
   ]
  },
  {
   "cell_type": "code",
   "execution_count": 23,
   "metadata": {},
   "outputs": [
    {
     "name": "stdout",
     "output_type": "stream",
     "text": [
      "Largest Number:  69\n"
     ]
    }
   ],
   "source": [
    "# Scenario 2: \n",
    "# A program processes a list of numbers and needs to find the largest value.\n",
    "# Write logic to identify and return the largest number from a given list.\n",
    "\n",
    "# to identify and return the largest number from the given list\n",
    "\n",
    "list_a = [10, 51, 38, 69, 5, 29]\n",
    "\n",
    "def large_no():\n",
    "    largest = list_a[0]\n",
    "    for i in list_a:\n",
    "        if i > largest:\n",
    "            largest = i\n",
    "    print(\"Largest Number: \", largest)\n",
    "    \n",
    "large_no()"
   ]
  },
  {
   "cell_type": "code",
   "execution_count": 1,
   "metadata": {},
   "outputs": [
    {
     "name": "stdout",
     "output_type": "stream",
     "text": [
      "Bonus in Salary 50000.1\n"
     ]
    }
   ],
   "source": [
    "# Scenario 3: \n",
    "# A company provides employees with a 10% bonus if their salary exceeds $50,000.\n",
    "# Write logic to determine the bonus amount based on the given salary.\n",
    "\n",
    "# to determine the bonus amount based on the given salary\n",
    "\n",
    "salary = 50000\n",
    "if (salary >= 50000):\n",
    "    salary = ((10/100) + 50000)\n",
    "    print(\"Bonus in Salary: \", salary)\n",
    "else:\n",
    "    print(\"No Bonus in salary: \", salary)"
   ]
  },
  {
   "cell_type": "code",
   "execution_count": 26,
   "metadata": {},
   "outputs": [
    {
     "name": "stdout",
     "output_type": "stream",
     "text": [
      "Enter the number: 7\n",
      "Number is Odd\n"
     ]
    }
   ],
   "source": [
    "# Scenario 4: \n",
    "# A program evaluates a number to determine if it is even or odd.\n",
    "# Write logic to check whether a given number is even or odd.\n",
    "\n",
    "# to check whether a given number is even or odd\n",
    "\n",
    "num = int(input(\"Enter the number: \"))\n",
    "if ((num % 2) == 0):\n",
    "    print(\"Number is Even\")\n",
    "else:\n",
    "    print(\"Number is Odd\")"
   ]
  },
  {
   "cell_type": "code",
   "execution_count": 29,
   "metadata": {},
   "outputs": [
    {
     "name": "stdout",
     "output_type": "stream",
     "text": [
      "Enter a word or a sentence: Hello World\n",
      "dlroW olleH\n"
     ]
    }
   ],
   "source": [
    "# Scenario 5: \n",
    "# A text-processing tool reverses a given word or sentence for formatting purposes.\n",
    "# Write logic to take a word or sentence as input and produce its reversed version.\n",
    "\n",
    "# to reverse a word or sentence\n",
    "\n",
    "text = str(input(\"Enter a word or a sentence: \"))\n",
    "rev_text = text[::-1]\n",
    "print(rev_text)"
   ]
  },
  {
   "cell_type": "code",
   "execution_count": 31,
   "metadata": {},
   "outputs": [
    {
     "name": "stdout",
     "output_type": "stream",
     "text": [
      "Enter the marks: 40\n",
      "Pass in Subject\n"
     ]
    }
   ],
   "source": [
    "# Scenario 6: \n",
    "# A grading system determines whether a student has passed or failed based on their score.\n",
    "# Write logic to check if a student has passed a subject by scoring at least 40 marks\n",
    "\n",
    "# to check if a student has scored at least 40 marks and passed in the subject\n",
    "\n",
    "marks = int(input(\"Enter the marks: \"))\n",
    "if (marks >= 40):\n",
    "    print(\"Pass in Subject\")\n",
    "else:\n",
    "    print(\"Fail in Subject\")"
   ]
  },
  {
   "cell_type": "code",
   "execution_count": 4,
   "metadata": {},
   "outputs": [
    {
     "name": "stdout",
     "output_type": "stream",
     "text": [
      "Enter the amount: 150\n",
      "Discount in Total Order:  249.8\n"
     ]
    }
   ],
   "source": [
    "# Scenario 7: \n",
    "# A retail store offers a 20% discount if a customer’s total order exceeds $100. \n",
    "# Write logic to calculate the final amount to be paid after applying the discount.\n",
    "\n",
    "# to calculate the amount after the discount\n",
    "\n",
    "total_order = int(input(\"Enter the amount: \"))\n",
    "if (total_order >= 100):\n",
    "    total_order = total_order + (100 - (20/100))\n",
    "    print(\"Discount in Total Order: \", total_order)\n",
    "else:\n",
    "    print(\"No Discount in Total Order: \", total_order)"
   ]
  },
  {
   "cell_type": "code",
   "execution_count": 2,
   "metadata": {},
   "outputs": [
    {
     "name": "stdout",
     "output_type": "stream",
     "text": [
      "Enough Balance =  50000\n"
     ]
    }
   ],
   "source": [
    "# Scenario 8: \n",
    "# A banking system processes withdrawal requests and ensures the user has enough balance.\n",
    "# Write logic to check if a user has enough balance before allowing a withdrawal and update the remaining balance accordingly\n",
    "\n",
    "# to check if user has enough balance and update the remaining balance\n",
    "\n",
    "deposit = 100000\n",
    "withdrawal = 50000\n",
    "rem_bal = deposit - withdrawal\n",
    "if (rem_bal >= 0):\n",
    "    print(\"Enough Balance = \", rem_bal)\n",
    "else:\n",
    "    print(\"Updated Balance = \", rem_bal)"
   ]
  },
  {
   "cell_type": "code",
   "execution_count": 47,
   "metadata": {},
   "outputs": [
    {
     "name": "stdout",
     "output_type": "stream",
     "text": [
      "Enter the year: 2000\n",
      "Leap Year\n"
     ]
    }
   ],
   "source": [
    "# Scenario 9: \n",
    "# A calendar system verifies whether a given year is a leap year based on standard leap year rules.\n",
    "# Write logic to determine whether a given year is a leap year\n",
    "\n",
    "# to check if a year is leap year or not\n",
    "\n",
    "year = int(input(\"Enter the year: \"))\n",
    "if ((year % 4) == 0):\n",
    "    print(\"Leap Year\")\n",
    "elif ((year % 100) == 2):\n",
    "    print(\"Not Leap Year\")\n",
    "elif ((year % 400) == 0):\n",
    "    print(\"Leap Year\")\n",
    "else:\n",
    "    print(\"Not Leap Year\")"
   ]
  },
  {
   "cell_type": "code",
   "execution_count": 46,
   "metadata": {},
   "outputs": [
    {
     "name": "stdout",
     "output_type": "stream",
     "text": [
      "30\n",
      "60\n",
      "18\n"
     ]
    }
   ],
   "source": [
    "# Scenario 10: \n",
    "# A program filters out only even numbers from a given list.\n",
    "# Write logic to extract and return only the even numbers from a list.\n",
    "\n",
    "# to return the even numbers from the list\n",
    "\n",
    "list_a = [30, 15, 60, 18, 19, 21]\n",
    "for i in list_a:\n",
    "    if ((i % 2) == 0):\n",
    "        print(i)"
   ]
  }
 ],
 "metadata": {
  "kernelspec": {
   "display_name": "Python 3",
   "language": "python",
   "name": "python3"
  },
  "language_info": {
   "codemirror_mode": {
    "name": "ipython",
    "version": 3
   },
   "file_extension": ".py",
   "mimetype": "text/x-python",
   "name": "python",
   "nbconvert_exporter": "python",
   "pygments_lexer": "ipython3",
   "version": "3.7.4"
  }
 },
 "nbformat": 4,
 "nbformat_minor": 2
}
