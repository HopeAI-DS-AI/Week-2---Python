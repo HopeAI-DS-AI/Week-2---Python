{
 "cells": [
  {
   "cell_type": "code",
   "execution_count": 17,
   "metadata": {},
   "outputs": [
    {
     "data": {
      "text/plain": [
       "'olleH'"
      ]
     },
     "execution_count": 17,
     "metadata": {},
     "output_type": "execute_result"
    }
   ],
   "source": [
    "# 1.Write a Python program to find the reverse of a string. Expected Output (for input \"hello\"):\n",
    "# olleh\n",
    "\n",
    "def rev_string(rev):\n",
    "    rev = rev[::-1]\n",
    "    return rev\n",
    "\n",
    "rev_string(\"Hello\")"
   ]
  },
  {
   "cell_type": "code",
   "execution_count": 19,
   "metadata": {},
   "outputs": [
    {
     "name": "stdout",
     "output_type": "stream",
     "text": [
      "[0, 1, 1, 2, 3, 5, 8, 13, 21, 34]\n"
     ]
    }
   ],
   "source": [
    "# 2.Write a Python program to generate the Fibonacci sequence up to 10 terms.\n",
    "# Expected Output:\n",
    "# 0 1 1 2 3 5 8 13 21 34\n",
    "\n",
    "def fib(n):\n",
    "    a = [0, 1]\n",
    "    for i in range(2, n):\n",
    "        a.append(a[-1] + a[-2])\n",
    "    print(a)\n",
    "\n",
    "fib(10)"
   ]
  },
  {
   "cell_type": "code",
   "execution_count": 24,
   "metadata": {},
   "outputs": [
    {
     "name": "stdout",
     "output_type": "stream",
     "text": [
      "malayalam is palindrome\n"
     ]
    }
   ],
   "source": [
    "# 3.Write a Python function to check if a given string is a palindrome.\n",
    "# Expected Output (for input \"madam\"):\n",
    "# madam is a palindrome\n",
    "\n",
    "def palin(n):\n",
    "    n = n[::-1]\n",
    "    return n\n",
    "\n",
    "word = \"malayalam\"\n",
    "if palin(word):\n",
    "    print(f\"{word} is palindrome\")\n",
    "else:\n",
    "    print(f\"{word} is not palindrome\")"
   ]
  },
  {
   "cell_type": "code",
   "execution_count": 25,
   "metadata": {},
   "outputs": [
    {
     "name": "stdout",
     "output_type": "stream",
     "text": [
      "Number of vowels: 2\n"
     ]
    }
   ],
   "source": [
    "\n",
    "\n",
    "# 4.Write a Python program to count the number of vowels in a given string. \n",
    "# Expected Output (for input \"education\"):\n",
    "\n",
    "# Number of vowels: 5\n",
    "    \n",
    "def count_vowels(s):\n",
    "    vowels = \"aeiouAEIOU\"\n",
    "    return sum(1 for char in s if char in vowels)\n",
    "\n",
    "print(\"Number of vowels:\", count_vowels(\"Hello\"))"
   ]
  },
  {
   "cell_type": "code",
   "execution_count": null,
   "metadata": {},
   "outputs": [],
   "source": [
    "# 5.Write a Python program to remove duplicates from a list.\n",
    "# Expected Output (for input [1, 2, 2, 3, 4, 4, 5]):\n",
    "\n",
    "#  [1, 2, 3, 4, 5]\n",
    "\n",
    "list_a = [1, 2, 2, 3, 4, 4, 5]\n",
    "\n",
    "def remove_duplicates(list_a):\n",
    "    return list(set(list_a))\n",
    "\n",
    "remove_duplicates(list_a)\n",
    "\n",
    "\n"
   ]
  }
 ],
 "metadata": {
  "kernelspec": {
   "display_name": "Python 3",
   "language": "python",
   "name": "python3"
  },
  "language_info": {
   "codemirror_mode": {
    "name": "ipython",
    "version": 3
   },
   "file_extension": ".py",
   "mimetype": "text/x-python",
   "name": "python",
   "nbconvert_exporter": "python",
   "pygments_lexer": "ipython3",
   "version": "3.7.4"
  }
 },
 "nbformat": 4,
 "nbformat_minor": 5
}
