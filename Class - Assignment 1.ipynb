{
 "cells": [
  {
   "cell_type": "markdown",
   "metadata": {},
   "source": [
    "# Class - Assignment 1"
   ]
  },
  {
   "cell_type": "code",
   "execution_count": 45,
   "metadata": {},
   "outputs": [],
   "source": [
    "# create a class and function and list out the items in the list\n",
    "\n",
    "a = [\"Machine Learning\", \"Neural Networks\", \"Vision\", \"Robotics\", \"Speech Processing\", \"Natural Language Processing\"]\n",
    "class SubfieldsInAI():\n",
    "    def Subfields():\n",
    "        print(\"The Subfields are:\")\n",
    "        for i in a:\n",
    "            print(i)"
   ]
  },
  {
   "cell_type": "code",
   "execution_count": 46,
   "metadata": {},
   "outputs": [
    {
     "name": "stdout",
     "output_type": "stream",
     "text": [
      "The Subfields are:\n",
      "Machine Learning\n",
      "Neural Networks\n",
      "Vision\n",
      "Robotics\n",
      "Speech Processing\n",
      "Natural Language Processing\n"
     ]
    }
   ],
   "source": [
    "SubfieldsInAI.Subfields()"
   ]
  },
  {
   "cell_type": "code",
   "execution_count": 2,
   "metadata": {},
   "outputs": [
    {
     "name": "stdout",
     "output_type": "stream",
     "text": [
      "Enter the number: 52452\n",
      "52452  is Even Number\n"
     ]
    }
   ],
   "source": [
    "# create a function that checks whether a given number is Odd or Even\n",
    "\n",
    "class OddEven():\n",
    "    def OddEven():\n",
    "        num = int(input(\"Enter the number: \"))\n",
    "        if ((num % 2) == 0):\n",
    "            print(num, \" is Even Number\")\n",
    "        else:\n",
    "            print(num, \" is Odd Number\")\n",
    "        \n",
    "OddEven.OddEven()"
   ]
  },
  {
   "cell_type": "code",
   "execution_count": 3,
   "metadata": {},
   "outputs": [
    {
     "name": "stdout",
     "output_type": "stream",
     "text": [
      "Your Gender: Male\n",
      "Your Age: 20\n",
      "Not Eligible\n"
     ]
    }
   ],
   "source": [
    "# create a function that creates eligibility of marriage for male and female according to their age limit \n",
    "#like 21 for male and 18 for female\n",
    "\n",
    "class EligibilityForMarriage():\n",
    "    def eligibility():\n",
    "        gender = str(input(\"Your Gender: \"))\n",
    "        age = int(input(\"Your Age: \"))\n",
    "        if (gender == \"Female\") and (age > 18):\n",
    "            print(\"Eligible\")\n",
    "        elif (gender == \"Male\") and (age > 21):\n",
    "            print(\"Eligible\")\n",
    "        else:\n",
    "            print(\"Not Eligible\")\n",
    "        \n",
    "EligibilityForMarriage.eligibility()"
   ]
  },
  {
   "cell_type": "code",
   "execution_count": 86,
   "metadata": {},
   "outputs": [
    {
     "name": "stdout",
     "output_type": "stream",
     "text": [
      "Subject1 = 98\n",
      "Subject2 = 87\n",
      "Subject3 = 95\n",
      "Subject4 = 95\n",
      "Subject5 = 93\n",
      "Total:  468\n",
      "Percentage:  93.6\n"
     ]
    }
   ],
   "source": [
    "# calculate the percentage of your 10th mark\n",
    "\n",
    "Subject1 = int(input(\"Subject1 = \"))\n",
    "Subject2 = int(input(\"Subject2 = \"))\n",
    "Subject3 = int(input(\"Subject3 = \"))\n",
    "Subject4 = int(input(\"Subject4 = \"))\n",
    "Subject5 = int(input(\"Subject5 = \"))\n",
    "class FindPercentage():\n",
    "    def percentage():\n",
    "        Total = Subject1 + Subject2 + Subject3 + Subject4 + Subject5\n",
    "        Percentage = Total/5\n",
    "        print(\"Total: \", Total)\n",
    "        print(\"Percentage: \", Percentage)    \n",
    "\n",
    "FindPercentage.percentage()"
   ]
  },
  {
   "cell_type": "code",
   "execution_count": 83,
   "metadata": {},
   "outputs": [
    {
     "name": "stdout",
     "output_type": "stream",
     "text": [
      "Height: 32\n",
      "Breadth: 34\n",
      "area formula = (Height * Breadth) / 2\n",
      "Area of Triangle:  544.0\n",
      "Height1: 2\n",
      "Height2: 4\n",
      "Breadth: 4\n",
      "Perimeter formula = Height1 + Height2 + Breadth\n",
      "Perimeter of Triangle:  10\n"
     ]
    }
   ],
   "source": [
    "# print area and perimeter of triangle using class and function\n",
    "\n",
    "class triangle():\n",
    "    def triangle():\n",
    "        height = int(input(\"Height: \"))\n",
    "        breadth = int(input(\"Breadth: \"))\n",
    "        area = (height * breadth)/2\n",
    "        print(\"area formula = (Height * Breadth) / 2\")\n",
    "        print(\"Area of Triangle: \", area)\n",
    "        height1 = int(input(\"Height1: \"))\n",
    "        height2 = int(input(\"Height2: \"))\n",
    "        breadth = int(input(\"Breadth: \"))\n",
    "        print(\"Perimeter formula = Height1 + Height2 + Breadth\")\n",
    "        perimeter = height1 + height2 + breadth\n",
    "        print(\"Perimeter of Triangle: \", perimeter)\n",
    "        \n",
    "triangle.triangle()"
   ]
  }
 ],
 "metadata": {
  "kernelspec": {
   "display_name": "Python 3",
   "language": "python",
   "name": "python3"
  },
  "language_info": {
   "codemirror_mode": {
    "name": "ipython",
    "version": 3
   },
   "file_extension": ".py",
   "mimetype": "text/x-python",
   "name": "python",
   "nbconvert_exporter": "python",
   "pygments_lexer": "ipython3",
   "version": "3.7.4"
  }
 },
 "nbformat": 4,
 "nbformat_minor": 2
}
