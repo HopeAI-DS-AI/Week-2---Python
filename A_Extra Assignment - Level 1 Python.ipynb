{
 "cells": [
  {
   "cell_type": "markdown",
   "metadata": {},
   "source": [
    "# Extra Assignment - Level 1 Python"
   ]
  },
  {
   "cell_type": "code",
   "execution_count": 18,
   "metadata": {},
   "outputs": [
    {
     "name": "stdout",
     "output_type": "stream",
     "text": [
      "HOPE AI\n"
     ]
    }
   ],
   "source": [
    "# print statement\n",
    "\n",
    "print(\"HOPE AI\")"
   ]
  },
  {
   "cell_type": "code",
   "execution_count": 3,
   "metadata": {},
   "outputs": [
    {
     "name": "stdout",
     "output_type": "stream",
     "text": [
      "Enter your Institute Name: HOPE AI\n"
     ]
    }
   ],
   "source": [
    "# Buy Input\n",
    "\n",
    "Institute_Name = str(input(\"Enter your Institute Name: \"))"
   ]
  },
  {
   "cell_type": "code",
   "execution_count": 4,
   "metadata": {},
   "outputs": [
    {
     "name": "stdout",
     "output_type": "stream",
     "text": [
      "Enter your name: Raj\n",
      "Enter your age: 15\n",
      "Enter your School Name: Guru School\n",
      "Enter your degree: B.E. CSE\n"
     ]
    }
   ],
   "source": [
    "# Buy Inputs\n",
    "\n",
    "Name = str(input(\"Enter your name: \"))\n",
    "Age = int(input(\"Enter your age: \"))\n",
    "School_Name = str(input(\"Enter your School Name: \"))\n",
    "Degree = str(input(\"Enter your degree: \"))"
   ]
  },
  {
   "cell_type": "code",
   "execution_count": 5,
   "metadata": {},
   "outputs": [
    {
     "name": "stdout",
     "output_type": "stream",
     "text": [
      "Num1:  43\n",
      "Num2:  34\n",
      "Addition:  77\n"
     ]
    }
   ],
   "source": [
    "# Addition\n",
    "\n",
    "Num1 = 43\n",
    "Num2 = 34\n",
    "Add = Num1 + Num2\n",
    "print(\"Num1: \", Num1)\n",
    "print(\"Num2: \", Num2)\n",
    "print(\"Addition: \", Add)"
   ]
  },
  {
   "cell_type": "code",
   "execution_count": 7,
   "metadata": {},
   "outputs": [
    {
     "name": "stdout",
     "output_type": "stream",
     "text": [
      "Num1:  43\n",
      "Num2:  34\n",
      "Subtraction:  9\n"
     ]
    }
   ],
   "source": [
    "# Subtraction\n",
    "\n",
    "Num1 = 43\n",
    "Num2 = 34\n",
    "Sub = Num1 - Num2\n",
    "print(\"Num1: \", Num1)\n",
    "print(\"Num2: \", Num2)\n",
    "print(\"Subtraction: \", Sub)"
   ]
  },
  {
   "cell_type": "code",
   "execution_count": 9,
   "metadata": {},
   "outputs": [
    {
     "name": "stdout",
     "output_type": "stream",
     "text": [
      "Num1:  63\n",
      "Num2:  97\n",
      "Multiplication:  6111\n"
     ]
    }
   ],
   "source": [
    "# Multiplication\n",
    "\n",
    "Num1 = 63\n",
    "Num2 = 97\n",
    "Mul = Num1 * Num2\n",
    "print(\"Num1: \", Num1)\n",
    "print(\"Num2: \", Num2)\n",
    "print(\"Multiplication: \", Mul)"
   ]
  },
  {
   "cell_type": "code",
   "execution_count": 13,
   "metadata": {},
   "outputs": [
    {
     "name": "stdout",
     "output_type": "stream",
     "text": [
      "Num1:  76\n",
      "Num2:  31\n",
      "Float Div:  2.4516129032258065\n"
     ]
    }
   ],
   "source": [
    "# Division\n",
    "\n",
    "Num1 = 76\n",
    "Num2 = 31\n",
    "Float_Div = float(Num1 / Num2)\n",
    "print(\"Num1: \", Num1)\n",
    "print(\"Num2: \", Num2)\n",
    "print(\"Float Div: \", Float_Div)"
   ]
  },
  {
   "cell_type": "code",
   "execution_count": 15,
   "metadata": {},
   "outputs": [
    {
     "name": "stdout",
     "output_type": "stream",
     "text": [
      "Num1:  76\n",
      "Num2:  31\n",
      "Floor Div:  2\n"
     ]
    }
   ],
   "source": [
    "# Division\n",
    "\n",
    "import math\n",
    "\n",
    "Num1 = 76\n",
    "Num2 = 31\n",
    "Floor_Div = math.floor(Num1 / Num2)\n",
    "print(\"Num1: \", Num1)\n",
    "print(\"Num2: \", Num2)\n",
    "print(\"Floor Div: \", Floor_Div)"
   ]
  },
  {
   "cell_type": "code",
   "execution_count": 16,
   "metadata": {},
   "outputs": [
    {
     "name": "stdout",
     "output_type": "stream",
     "text": [
      "Num1:  76\n",
      "Num2:  31\n",
      "Modulo:  14\n"
     ]
    }
   ],
   "source": [
    "# modulo\n",
    "\n",
    "Num1 = 76\n",
    "Num2 = 31\n",
    "Modulo = Num1 % Num2\n",
    "print(\"Num1: \", Num1)\n",
    "print(\"Num2: \", Num2)\n",
    "print(\"Modulo: \", Modulo)"
   ]
  },
  {
   "cell_type": "code",
   "execution_count": 17,
   "metadata": {},
   "outputs": [
    {
     "name": "stdout",
     "output_type": "stream",
     "text": [
      "Power:  256\n"
     ]
    }
   ],
   "source": [
    "# Power\n",
    "\n",
    "a = 4\n",
    "b = 4\n",
    "power = a ** b\n",
    "print(\"Power: \", power)"
   ]
  },
  {
   "cell_type": "code",
   "execution_count": null,
   "metadata": {},
   "outputs": [],
   "source": []
  }
 ],
 "metadata": {
  "kernelspec": {
   "display_name": "Python 3",
   "language": "python",
   "name": "python3"
  },
  "language_info": {
   "codemirror_mode": {
    "name": "ipython",
    "version": 3
   },
   "file_extension": ".py",
   "mimetype": "text/x-python",
   "name": "python",
   "nbconvert_exporter": "python",
   "pygments_lexer": "ipython3",
   "version": "3.7.4"
  }
 },
 "nbformat": 4,
 "nbformat_minor": 2
}
